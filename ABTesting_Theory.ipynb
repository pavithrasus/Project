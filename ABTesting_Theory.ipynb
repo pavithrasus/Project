{
 "cells": [
  {
   "cell_type": "markdown",
   "id": "91dd69d9-a2ce-49db-8332-b6cce5e4f2c5",
   "metadata": {},
   "source": [
    "A/B testing process\n",
    "1. hypothesis of a/b testing process\n",
    "2. a/b test design/power analysis\n",
    "3. run the a/b test\n",
    "4. results analysis/Statistical Significance\n",
    "5. Results Analysis|Practical Significance"
   ]
  },
  {
   "cell_type": "markdown",
   "id": "c1ac8fc2-9b99-40fd-b698-e4848cad35c8",
   "metadata": {},
   "source": [
    "Business Hypothesis \n",
    "\n",
    "- describes what 2 products are being compares and what is the desired impact or difference for the business\n",
    "- how to fix a potential issue in the product\n",
    "- soultion will influence the KPI\n",
    "\n",
    "Primary Metric\n",
    "\n",
    "It is a way to measure the performance of the product being tested, for the experimental and control groups. it will used to identify whether there is a statistically significant difference between the 2 groups\n",
    "\n",
    "- single primary metric\n",
    "- answering metric validity question\n",
    "even though we choose a primary metric we should make sure that all metrics show the change\n",
    "\n",
    "\n",
    "have multiple metrics in a/b test will lead to false positives\n",
    "\n",
    "\n",
    "conversion rate = (number of conversions/number of total visitors)*100%\n"
   ]
  },
  {
   "cell_type": "markdown",
   "id": "20614eac-c68a-4ca3-bbc9-521f175bc9df",
   "metadata": {},
   "source": [
    "enagement primary metric\n",
    "ctr (click to rate) = (no of clicks/no of impressions) * 100% (ecommerce , search engine, digital marketing campaigns)"
   ]
  },
  {
   "cell_type": "markdown",
   "id": "69bcf73e-bc0f-49d6-ab39-a5a28b793447",
   "metadata": {},
   "source": [
    "Statistical Hypothesis\n",
    "\n",
    "Hypothesis testing or statistical hypothesis is a statistical procedure that is used to determine whether there is a significant difference between the observed and the expected data.\n",
    "\n",
    "-Put hypothesis subject to rejection under null hypothesis (H0)\n",
    "-put hypothesis subject to acceptance under alternative hypothesis (H1)\n",
    "example \n",
    "null: ctr of learn more button with blue color is equal to ctr of green button\n",
    "alternative:ctr of learn more button with green colour is larger than click to rate of blue button\n"
   ]
  },
  {
   "cell_type": "markdown",
   "id": "5cfefd8c-e981-4e38-b50d-960cdb5d0f74",
   "metadata": {},
   "source": [
    "a/b test design |power design \n",
    "\n",
    "- power analysis\n",
    "- minumum sample size\n",
    "- test duration\n",
    "\n",
    "Power analysis\n",
    " determine the power of the test\n",
    " -probability of correctly rejecting the null hypothesis\n",
    " - probability of not making a type 2 error (1-beta)\n",
    " - common to pick 80% as the power of the a/b test\n",
    "In statistics, a Type I error means rejecting the null hypothesis when it's actually true, while a Type II error means failing to reject the null hypothesis when it's actually false.\n",
    "\n",
    "\n",
    "Determine the significance level of the test\n",
    "\n",
    "-probability of rejecting the null, while the null is true\n",
    "- detecting statistically significance while its not\n",
    "- probabilty of making a type 1 error (alpha)\n",
    "- common to pick 5% as significance level of the test\n",
    "\n",
    "Determine Minimum detectable effect (delta)\n",
    "\n",
    "- what is the substantiative to the statistical significance for business\n",
    "- proxy that relates to smallest effect that would matter in practic\n",
    "- no level level - depends on the business ask\n",
    "- no common level - depends on the business ask\n",
    "\n",
    "\n",
    "power analysis\n",
    "\n",
    "beta : probability of type 2 error\n",
    "1-beta : power of the test\n",
    "alpha : probability of type 1 erro , significance level\n",
    "gamma: minimum detectable effect\n",
    "\n",
    "Calculating min sample size\n",
    "\n",
    "-primary metric of a/b testing is in the form of binary variable eg:conversion or no conversion\n",
    "- primary metric ofthe test is in the form of proportions or averages. eg: click to rate is in the form of averages\n",
    "\n",
    "\n",
    "any one of the primary metric case is possible per solution\n",
    "\n",
    "\n",
    "\n"
   ]
  },
  {
   "cell_type": "markdown",
   "id": "b33ec13a-a534-445e-9a39-93fba5a0a14b",
   "metadata": {},
   "source": [
    "h0 : μcon = μexp\n",
    "h1: μcon != μexp\n",
    "\n",
    "Calculating Min sample size in a/b testing\n",
    "\n",
    "N = (σ^2con +σ^2exp)(z1 -α/2+z1-β)^2 /σ^2"
   ]
  },
  {
   "cell_type": "markdown",
   "id": "6c83cabb-98c6-4f71-a3f4-a5935f062129",
   "metadata": {},
   "source": [
    "A/b Test Duration \n",
    "\n",
    "Duration = N(min sample size) /#Visitors per day\n",
    "\n",
    "\n",
    "too small test duration - novelty effects that is people react too quickly too positively\n",
    "\n",
    "too large test duration - too long too maturation that is external factors might effect the test\n"
   ]
  },
  {
   "cell_type": "markdown",
   "id": "4887b527-f290-4a6c-a4b5-f6c72a852835",
   "metadata": {},
   "source": [
    "AB Test Results Analysis"
   ]
  },
  {
   "cell_type": "code",
   "execution_count": 26,
   "id": "7dbf044a-5d56-4e90-8d9a-28a28b424ea1",
   "metadata": {},
   "outputs": [],
   "source": [
    "import numpy as np\n",
    "import pandas as pd\n",
    "\n",
    "\n",
    "#Simulating click data for A/B testing\n",
    "\n",
    "n_exp = 10000\n",
    "n_con = 10000\n",
    "\n",
    "#Generating click data\n",
    "\n",
    "click_exp = pd.Series(np.random.binomial(1,0.5,size = n_exp))\n",
    "click_con = pd.Series(np.random.binomial(1,0.2,size = n_con))"
   ]
  },
  {
   "cell_type": "code",
   "execution_count": 27,
   "id": "0f519218-be1e-42bf-b3b0-d30f11dee400",
   "metadata": {},
   "outputs": [
    {
     "name": "stdout",
     "output_type": "stream",
     "text": [
      "0       1\n",
      "1       1\n",
      "2       0\n",
      "3       0\n",
      "4       1\n",
      "       ..\n",
      "9995    1\n",
      "9996    0\n",
      "9997    1\n",
      "9998    1\n",
      "9999    1\n",
      "Length: 10000, dtype: int64\n",
      "0       0\n",
      "1       1\n",
      "2       0\n",
      "3       0\n",
      "4       1\n",
      "       ..\n",
      "9995    0\n",
      "9996    1\n",
      "9997    0\n",
      "9998    0\n",
      "9999    0\n",
      "Length: 10000, dtype: int64\n"
     ]
    }
   ],
   "source": [
    "print(click_exp)\n",
    "print(click_con)"
   ]
  },
  {
   "cell_type": "code",
   "execution_count": 28,
   "id": "865d8c4c-02cb-4dd4-a1e6-31038750073e",
   "metadata": {},
   "outputs": [],
   "source": [
    "#Generate group identifier\n",
    "\n",
    "exp_id = pd.Series(np.repeat(\"exp\",n_exp))\n",
    "con_id = pd.Series(np.repeat(\"con\",n_con))"
   ]
  },
  {
   "cell_type": "code",
   "execution_count": 29,
   "id": "c0a28f19-6155-4b67-9cce-daf533773857",
   "metadata": {},
   "outputs": [],
   "source": [
    "df_exp = pd.concat([click_exp,exp_id],axis =1)\n",
    "df_con = pd.concat([click_con,con_id],axis =1)"
   ]
  },
  {
   "cell_type": "code",
   "execution_count": 30,
   "id": "4c3975a3-06fd-4a57-b43f-104b72a0d3c1",
   "metadata": {},
   "outputs": [],
   "source": [
    "df_exp.columns = ['click','group']\n",
    "df_con.columns = ['click','group']\n"
   ]
  },
  {
   "cell_type": "code",
   "execution_count": 31,
   "id": "32937113-b050-45e3-907d-d22028a35373",
   "metadata": {},
   "outputs": [
    {
     "name": "stdout",
     "output_type": "stream",
     "text": [
      "       click group\n",
      "0          1   exp\n",
      "1          1   exp\n",
      "2          0   exp\n",
      "3          0   exp\n",
      "4          1   exp\n",
      "...      ...   ...\n",
      "19995      0   con\n",
      "19996      1   con\n",
      "19997      0   con\n",
      "19998      0   con\n",
      "19999      0   con\n",
      "\n",
      "[20000 rows x 2 columns]\n"
     ]
    }
   ],
   "source": [
    "df_ab_test = pd.concat([df_exp,df_con],axis=0).reset_index(drop = True)\n",
    "print(df_ab_test)"
   ]
  },
  {
   "cell_type": "code",
   "execution_count": 32,
   "id": "6f233f93-a50a-47fc-934b-158677ada8c5",
   "metadata": {},
   "outputs": [
    {
     "name": "stdout",
     "output_type": "stream",
     "text": [
      "1930\n"
     ]
    }
   ],
   "source": [
    "#no of clicks we have obtained in control group\n",
    "\n",
    "X_con = df_ab_test.groupby(by = \"group\")[\"click\"].sum().loc[\"con\"]\n",
    "print(X_con)"
   ]
  },
  {
   "cell_type": "code",
   "execution_count": 33,
   "id": "2dbaf0c3-7e11-494d-8b40-a1e1185243ef",
   "metadata": {},
   "outputs": [
    {
     "name": "stdout",
     "output_type": "stream",
     "text": [
      "5042\n"
     ]
    }
   ],
   "source": [
    "#no of clicks obtained in experimental group\n",
    "X_exp = df_ab_test.groupby(by=\"group\")[\"click\"].sum().loc[\"exp\"]\n",
    "print(X_exp)"
   ]
  },
  {
   "cell_type": "code",
   "execution_count": 34,
   "id": "715298b6-29d1-432c-921d-594d8424dfa3",
   "metadata": {},
   "outputs": [
    {
     "name": "stdout",
     "output_type": "stream",
     "text": [
      "Probability of control group : 0.193\n",
      "Probability of experimental group : 0.5042\n"
     ]
    }
   ],
   "source": [
    "p_con_hat = X_con/n_con\n",
    "p_exp_hat = X_exp/n_exp\n",
    "\n",
    "print(\"Probability of control group :\", p_con_hat)\n",
    "print(\"Probability of experimental group :\", p_exp_hat)\n"
   ]
  },
  {
   "cell_type": "code",
   "execution_count": 37,
   "id": "52f6b98e-21ce-4c86-9a71-2fcada0762d0",
   "metadata": {},
   "outputs": [
    {
     "name": "stdout",
     "output_type": "stream",
     "text": [
      "Pooled variance is: 4.5415608e-05\n"
     ]
    }
   ],
   "source": [
    "p_pooled_hat = (X_con+X_exp)/(n_con + n_exp)\n",
    "pooled_variance = p_pooled_hat * (1-p_pooled_hat)*(1/n_con + 1/n_exp)\n",
    "print(\"Pooled variance is:\", pooled_variance)"
   ]
  },
  {
   "cell_type": "code",
   "execution_count": 38,
   "id": "8fe9afa7-0acc-4391-bfe1-a7386e1a6c75",
   "metadata": {},
   "outputs": [
    {
     "name": "stdout",
     "output_type": "stream",
     "text": [
      "standard error is: 0.0067391103270387255\n"
     ]
    }
   ],
   "source": [
    "SE = np.sqrt(pooled_variance)\n",
    "print(\"standard error is:\" , SE)"
   ]
  },
  {
   "cell_type": "code",
   "execution_count": 39,
   "id": "cc012915-3c49-4abf-80da-a6f0fc49cece",
   "metadata": {},
   "outputs": [
    {
     "name": "stdout",
     "output_type": "stream",
     "text": [
      "Test statistics for 2 sample z test is: -46.178202299404454\n"
     ]
    }
   ],
   "source": [
    "Test_stat = (p_con_hat - p_exp_hat)/SE\n",
    "print(\"Test statistics for 2 sample z test is:\" , Test_stat)"
   ]
  },
  {
   "cell_type": "code",
   "execution_count": 40,
   "id": "4f4582fd-c43d-4053-97f9-87d3aeb0a50b",
   "metadata": {},
   "outputs": [
    {
     "name": "stdout",
     "output_type": "stream",
     "text": [
      "Significance level alpha is : 0.5\n"
     ]
    }
   ],
   "source": [
    "alpha = 0.5\n",
    "print(\"Significance level alpha is :\",alpha)"
   ]
  },
  {
   "cell_type": "code",
   "execution_count": 41,
   "id": "7f0055bf-e96c-44a5-b9a7-cfe3187a5769",
   "metadata": {},
   "outputs": [],
   "source": [
    "from scipy.stats import norm"
   ]
  },
  {
   "cell_type": "code",
   "execution_count": 42,
   "id": "0efb7481-1ac4-4739-96b1-880cf33252ba",
   "metadata": {},
   "outputs": [
    {
     "name": "stdout",
     "output_type": "stream",
     "text": [
      "Z critical value from standard normal distribution:  0.6744897501960817\n"
     ]
    }
   ],
   "source": [
    "Z_crit = norm.ppf(1-alpha/2)\n",
    "print(\"Z critical value from standard normal distribution: \",Z_crit)"
   ]
  },
  {
   "cell_type": "code",
   "execution_count": 43,
   "id": "806472ea-3ff0-4df5-b267-02ec0bbedeca",
   "metadata": {},
   "outputs": [
    {
     "name": "stdout",
     "output_type": "stream",
     "text": [
      "p-value of the 2 sample Z tes: 0.0\n"
     ]
    }
   ],
   "source": [
    "p_value = 2*norm.sf(abs(Test_stat))\n",
    "print(\"p-value of the 2 sample Z tes:\", round(p_value,3))"
   ]
  },
  {
   "cell_type": "markdown",
   "id": "24ff73c2-b1f2-4b1a-a518-b798f700276a",
   "metadata": {},
   "source": [
    "we can say that since p value is less than alpha/significance level we can reject the null hypothesis and say that experimental version of the product is different from control group"
   ]
  },
  {
   "cell_type": "markdown",
   "id": "320fee80-7c49-46bf-b783-71aaca6fbb88",
   "metadata": {},
   "source": [
    "Practical significance "
   ]
  },
  {
   "cell_type": "code",
   "execution_count": 45,
   "id": "5bf91bf1-5d4b-4aec-bf6e-9b90670555ab",
   "metadata": {},
   "outputs": [
    {
     "name": "stdout",
     "output_type": "stream",
     "text": [
      "Confidence interval of the 2 sample z-test is: [np.float64(0.307), np.float64(0.316)]\n"
     ]
    }
   ],
   "source": [
    "#confidence interval\n",
    "\n",
    "CI = [round((p_exp_hat - p_con_hat) - SE*Z_crit,3) , round((p_exp_hat - p_con_hat) + SE*Z_crit,3)]\n",
    "print(\"Confidence interval of the 2 sample z-test is:\" , CI)"
   ]
  },
  {
   "cell_type": "code",
   "execution_count": 46,
   "id": "abb4f3e9-4c97-4f0a-a319-c66d3e081918",
   "metadata": {},
   "outputs": [],
   "source": [
    "delta = 0.03"
   ]
  },
  {
   "cell_type": "markdown",
   "id": "789cf661-cd8d-44a8-9989-0893ba96ddd3",
   "metadata": {},
   "source": [
    "if our delta value is less than our lower boound confidence level we can say that we have achieved practical significance.\n",
    "\n",
    "we have a narrow confidence interval which suggests that are results are generalizable and accurate.\n"
   ]
  },
  {
   "cell_type": "code",
   "execution_count": null,
   "id": "671dc2fd-19ca-49cc-b44b-56d57ef0faec",
   "metadata": {},
   "outputs": [],
   "source": []
  }
 ],
 "metadata": {
  "kernelspec": {
   "display_name": "Python 3 (ipykernel)",
   "language": "python",
   "name": "python3"
  },
  "language_info": {
   "codemirror_mode": {
    "name": "ipython",
    "version": 3
   },
   "file_extension": ".py",
   "mimetype": "text/x-python",
   "name": "python",
   "nbconvert_exporter": "python",
   "pygments_lexer": "ipython3",
   "version": "3.12.5"
  }
 },
 "nbformat": 4,
 "nbformat_minor": 5
}
